{
  "nbformat": 4,
  "nbformat_minor": 0,
  "metadata": {
    "kernelspec": {
      "display_name": "Python 3",
      "language": "python",
      "name": "python3"
    },
    "language_info": {
      "codemirror_mode": {
        "name": "ipython",
        "version": 3
      },
      "file_extension": ".py",
      "mimetype": "text/x-python",
      "name": "python",
      "nbconvert_exporter": "python",
      "pygments_lexer": "ipython3",
      "version": "3.4.3"
    },
    "colab": {
      "name": "Building a Spam Filter with Naive Bayes",
      "provenance": [],
      "collapsed_sections": []
    }
  },
  "cells": [
    {
      "cell_type": "markdown",
      "metadata": {
        "id": "AyRHNQ4KcGZH"
      },
      "source": [
        "# Building a Spam Filter with Naive Bayes"
      ]
    },
    {
      "cell_type": "markdown",
      "metadata": {
        "id": "gHGipBE1cGZL"
      },
      "source": [
        "## Introduction\n",
        "\n",
        "In this project we will buil a spam filter for SMS messages using Naive Bayes alorithm.\n",
        "To train the algorithm, we will use a dataset of 5,572 SMS messages that are classified by humans as spam or ham. The dataset is located in [The UCI Machine Learning Repository](https://archive.ics.uci.edu/ml/datasets/sms+spam+collection)"
      ]
    },
    {
      "cell_type": "markdown",
      "metadata": {
        "id": "PWlndsHAcGZM"
      },
      "source": [
        "## Aim\n",
        "The aim of this project is to create a spam filter that clssifies new messages with an accuracy greater than 80%, this means we expect that more than 80% of the new messages will be classified correctly as spam or no spam. "
      ]
    },
    {
      "cell_type": "code",
      "metadata": {
        "collapsed": true,
        "id": "66HQrVdBcGZN"
      },
      "source": [
        "import pandas as pd"
      ],
      "execution_count": 1,
      "outputs": []
    },
    {
      "cell_type": "code",
      "metadata": {
        "colab": {
          "base_uri": "https://localhost:8080/"
        },
        "id": "V2VavxWhcGZO",
        "outputId": "7bdebf27-ced4-43aa-a12c-010c255cc1fa"
      },
      "source": [
        "sms_spam = pd.read_csv('SMSSpamCollection', sep='\\t', header=None, names=['Label', 'SMS'])\n",
        "\n",
        "print(sms_spam.shape)"
      ],
      "execution_count": 2,
      "outputs": [
        {
          "output_type": "stream",
          "text": [
            "(5572, 2)\n"
          ],
          "name": "stdout"
        }
      ]
    },
    {
      "cell_type": "markdown",
      "metadata": {
        "id": "6hCT5Bn3cGZP"
      },
      "source": [
        "## Exploring data"
      ]
    },
    {
      "cell_type": "code",
      "metadata": {
        "colab": {
          "base_uri": "https://localhost:8080/",
          "height": 204
        },
        "id": "SD_hbR_HcGZP",
        "outputId": "6a7fac13-7690-45c3-fe5d-305285a3a585"
      },
      "source": [
        "sms_spam.head()"
      ],
      "execution_count": 3,
      "outputs": [
        {
          "output_type": "execute_result",
          "data": {
            "text/html": [
              "<div>\n",
              "<style scoped>\n",
              "    .dataframe tbody tr th:only-of-type {\n",
              "        vertical-align: middle;\n",
              "    }\n",
              "\n",
              "    .dataframe tbody tr th {\n",
              "        vertical-align: top;\n",
              "    }\n",
              "\n",
              "    .dataframe thead th {\n",
              "        text-align: right;\n",
              "    }\n",
              "</style>\n",
              "<table border=\"1\" class=\"dataframe\">\n",
              "  <thead>\n",
              "    <tr style=\"text-align: right;\">\n",
              "      <th></th>\n",
              "      <th>Label</th>\n",
              "      <th>SMS</th>\n",
              "    </tr>\n",
              "  </thead>\n",
              "  <tbody>\n",
              "    <tr>\n",
              "      <th>0</th>\n",
              "      <td>ham</td>\n",
              "      <td>Go until jurong point, crazy.. Available only ...</td>\n",
              "    </tr>\n",
              "    <tr>\n",
              "      <th>1</th>\n",
              "      <td>ham</td>\n",
              "      <td>Ok lar... Joking wif u oni...</td>\n",
              "    </tr>\n",
              "    <tr>\n",
              "      <th>2</th>\n",
              "      <td>spam</td>\n",
              "      <td>Free entry in 2 a wkly comp to win FA Cup fina...</td>\n",
              "    </tr>\n",
              "    <tr>\n",
              "      <th>3</th>\n",
              "      <td>ham</td>\n",
              "      <td>U dun say so early hor... U c already then say...</td>\n",
              "    </tr>\n",
              "    <tr>\n",
              "      <th>4</th>\n",
              "      <td>ham</td>\n",
              "      <td>Nah I don't think he goes to usf, he lives aro...</td>\n",
              "    </tr>\n",
              "  </tbody>\n",
              "</table>\n",
              "</div>"
            ],
            "text/plain": [
              "  Label                                                SMS\n",
              "0   ham  Go until jurong point, crazy.. Available only ...\n",
              "1   ham                      Ok lar... Joking wif u oni...\n",
              "2  spam  Free entry in 2 a wkly comp to win FA Cup fina...\n",
              "3   ham  U dun say so early hor... U c already then say...\n",
              "4   ham  Nah I don't think he goes to usf, he lives aro..."
            ]
          },
          "metadata": {
            "tags": []
          },
          "execution_count": 3
        }
      ]
    },
    {
      "cell_type": "code",
      "metadata": {
        "colab": {
          "base_uri": "https://localhost:8080/"
        },
        "id": "XlhPcX_vcGZQ",
        "outputId": "4ab68499-3e3a-46ec-db9b-a757c7ae42f4"
      },
      "source": [
        "#there are 5572 rows and 2 columns\n",
        "sms_spam.shape"
      ],
      "execution_count": 4,
      "outputs": [
        {
          "output_type": "execute_result",
          "data": {
            "text/plain": [
              "(5572, 2)"
            ]
          },
          "metadata": {
            "tags": []
          },
          "execution_count": 4
        }
      ]
    },
    {
      "cell_type": "code",
      "metadata": {
        "colab": {
          "base_uri": "https://localhost:8080/"
        },
        "id": "f2HHevzKcGZQ",
        "outputId": "7de81dda-9113-4224-b944-50a3eebd6f1c"
      },
      "source": [
        "#the dataset contains 86.6% no spam and 13.4% spam\n",
        "sms_spam['Label'].value_counts(normalize=True)*100"
      ],
      "execution_count": 5,
      "outputs": [
        {
          "output_type": "execute_result",
          "data": {
            "text/plain": [
              "ham     86.593683\n",
              "spam    13.406317\n",
              "Name: Label, dtype: float64"
            ]
          },
          "metadata": {
            "tags": []
          },
          "execution_count": 5
        }
      ]
    },
    {
      "cell_type": "markdown",
      "metadata": {
        "id": "HtcgKRQecGZR"
      },
      "source": [
        "## Training and Test"
      ]
    },
    {
      "cell_type": "markdown",
      "metadata": {
        "id": "hGPx4wFAcGZR"
      },
      "source": [
        "First we need to test spam filter, for this we will split the dataset into two categories:\n",
        "\n",
        "* training set: train the computer how to classify messages.\n",
        "* test set: test how good the spam filter classifying new messages.\n",
        "\n",
        "we will kepp 80% of the datasetfor training and 20% for testing. As we know there are 5572 messages:\n",
        "\n",
        "* training set will have 4458 messages, about 80% of the dataset.\n",
        "* test set will have 1114 messages, 20% of the dataset.\n",
        "\n",
        "1114 messages in our test set are already classified by a human. when the spam filter is ready, we are going to take these messages as new and have the filter classify them. When we have the results we will be able to compare the algorithm classification with that done by a human and we will see how good the spam filter really is\n"
      ]
    },
    {
      "cell_type": "code",
      "metadata": {
        "colab": {
          "base_uri": "https://localhost:8080/"
        },
        "id": "pLgOr5XzcGZS",
        "outputId": "03d589ae-fc7a-4c84-e220-2475aa885306"
      },
      "source": [
        "#randomize the entire dataset\n",
        "data_randomized=sms_spam.sample(frac=1,random_state=1)\n",
        "\n",
        "training_test_index = round(len(data_randomized) * 0.8)\n",
        "\n",
        "# Training/Test split\n",
        "training_set = data_randomized[:training_test_index].reset_index(drop=True)\n",
        "test_set = data_randomized[training_test_index:].reset_index(drop=True)\n",
        "\n",
        "print(training_set.shape)\n",
        "print(test_set.shape)"
      ],
      "execution_count": 6,
      "outputs": [
        {
          "output_type": "stream",
          "text": [
            "(4458, 2)\n",
            "(1114, 2)\n"
          ],
          "name": "stdout"
        }
      ]
    },
    {
      "cell_type": "code",
      "metadata": {
        "colab": {
          "base_uri": "https://localhost:8080/"
        },
        "id": "2GYo40jUcGZS",
        "outputId": "7061cfae-4475-4455-c5ce-d46f910d3d83"
      },
      "source": [
        "training_set.shape"
      ],
      "execution_count": 7,
      "outputs": [
        {
          "output_type": "execute_result",
          "data": {
            "text/plain": [
              "(4458, 2)"
            ]
          },
          "metadata": {
            "tags": []
          },
          "execution_count": 7
        }
      ]
    },
    {
      "cell_type": "code",
      "metadata": {
        "colab": {
          "base_uri": "https://localhost:8080/"
        },
        "id": "m-6EG0mRcGZT",
        "outputId": "d69f898e-fcda-47b6-bac6-9bc6ec887895"
      },
      "source": [
        "test_set.shape"
      ],
      "execution_count": 8,
      "outputs": [
        {
          "output_type": "execute_result",
          "data": {
            "text/plain": [
              "(1114, 2)"
            ]
          },
          "metadata": {
            "tags": []
          },
          "execution_count": 8
        }
      ]
    },
    {
      "cell_type": "code",
      "metadata": {
        "colab": {
          "base_uri": "https://localhost:8080/"
        },
        "id": "EqFK-7dbcGZT",
        "outputId": "c2eff0e6-e30c-48c4-95cc-5498ab719925"
      },
      "source": [
        "#finding percentage of spam and ham in training set\n",
        "training_set['Label'].value_counts(normalize=True)*100"
      ],
      "execution_count": 9,
      "outputs": [
        {
          "output_type": "execute_result",
          "data": {
            "text/plain": [
              "ham     86.54105\n",
              "spam    13.45895\n",
              "Name: Label, dtype: float64"
            ]
          },
          "metadata": {
            "tags": []
          },
          "execution_count": 9
        }
      ]
    },
    {
      "cell_type": "code",
      "metadata": {
        "colab": {
          "base_uri": "https://localhost:8080/"
        },
        "id": "I47spUG7cGZT",
        "outputId": "402074c1-1244-4285-b993-96f2cb91ea8a"
      },
      "source": [
        "#finding percentage of spam and ham in test set\n",
        "test_set['Label'].value_counts(normalize=True)*100"
      ],
      "execution_count": 10,
      "outputs": [
        {
          "output_type": "execute_result",
          "data": {
            "text/plain": [
              "ham     86.804309\n",
              "spam    13.195691\n",
              "Name: Label, dtype: float64"
            ]
          },
          "metadata": {
            "tags": []
          },
          "execution_count": 10
        }
      ]
    },
    {
      "cell_type": "markdown",
      "metadata": {
        "id": "UP20nICKcGZU"
      },
      "source": [
        "## Data cleaning"
      ]
    },
    {
      "cell_type": "markdown",
      "metadata": {
        "id": "s1A1_VoKcGZU"
      },
      "source": [
        "The next step is to use the training set to teach the algorithm to classify new messages.\n",
        "In order to use our Naive Bayes algorithm we will make the calssification based on the results, for this we need to calculate number of times each word appears in each SMS in a new schema"
      ]
    },
    {
      "cell_type": "markdown",
      "metadata": {
        "id": "E8wfH8AicGZU"
      },
      "source": [
        "![image](https://camo.githubusercontent.com/27a4a0a699bd8f0713d73347abe2929c267a03d5/68747470733a2f2f64712d636f6e74656e742e73332e616d617a6f6e6177732e636f6d2f3433332f637067705f646174617365745f332e706e67)"
      ]
    },
    {
      "cell_type": "markdown",
      "metadata": {
        "id": "IQQdnLWJcGZV"
      },
      "source": [
        "We will remove all the punctuation from the SMS column and special characters"
      ]
    },
    {
      "cell_type": "code",
      "metadata": {
        "colab": {
          "base_uri": "https://localhost:8080/",
          "height": 204
        },
        "id": "bbyVqPyKcGZV",
        "outputId": "f88a5d69-d689-4f7f-b7c9-6078b2fa1ba2"
      },
      "source": [
        "#before cleaning\n",
        "training_set.head()"
      ],
      "execution_count": 11,
      "outputs": [
        {
          "output_type": "execute_result",
          "data": {
            "text/html": [
              "<div>\n",
              "<style scoped>\n",
              "    .dataframe tbody tr th:only-of-type {\n",
              "        vertical-align: middle;\n",
              "    }\n",
              "\n",
              "    .dataframe tbody tr th {\n",
              "        vertical-align: top;\n",
              "    }\n",
              "\n",
              "    .dataframe thead th {\n",
              "        text-align: right;\n",
              "    }\n",
              "</style>\n",
              "<table border=\"1\" class=\"dataframe\">\n",
              "  <thead>\n",
              "    <tr style=\"text-align: right;\">\n",
              "      <th></th>\n",
              "      <th>Label</th>\n",
              "      <th>SMS</th>\n",
              "    </tr>\n",
              "  </thead>\n",
              "  <tbody>\n",
              "    <tr>\n",
              "      <th>0</th>\n",
              "      <td>ham</td>\n",
              "      <td>Yep, by the pretty sculpture</td>\n",
              "    </tr>\n",
              "    <tr>\n",
              "      <th>1</th>\n",
              "      <td>ham</td>\n",
              "      <td>Yes, princess. Are you going to make me moan?</td>\n",
              "    </tr>\n",
              "    <tr>\n",
              "      <th>2</th>\n",
              "      <td>ham</td>\n",
              "      <td>Welp apparently he retired</td>\n",
              "    </tr>\n",
              "    <tr>\n",
              "      <th>3</th>\n",
              "      <td>ham</td>\n",
              "      <td>Havent.</td>\n",
              "    </tr>\n",
              "    <tr>\n",
              "      <th>4</th>\n",
              "      <td>ham</td>\n",
              "      <td>I forgot 2 ask ü all smth.. There's a card on ...</td>\n",
              "    </tr>\n",
              "  </tbody>\n",
              "</table>\n",
              "</div>"
            ],
            "text/plain": [
              "  Label                                                SMS\n",
              "0   ham                       Yep, by the pretty sculpture\n",
              "1   ham      Yes, princess. Are you going to make me moan?\n",
              "2   ham                         Welp apparently he retired\n",
              "3   ham                                            Havent.\n",
              "4   ham  I forgot 2 ask ü all smth.. There's a card on ..."
            ]
          },
          "metadata": {
            "tags": []
          },
          "execution_count": 11
        }
      ]
    },
    {
      "cell_type": "code",
      "metadata": {
        "colab": {
          "base_uri": "https://localhost:8080/",
          "height": 204
        },
        "id": "BSySlQaKcGZV",
        "outputId": "491bee8f-7c85-4a1d-fd8a-bdca0397a800"
      },
      "source": [
        "# After cleaning\n",
        "training_set['SMS'] = training_set['SMS'].str.replace('\\W', ' ')\n",
        "training_set['SMS'] = training_set['SMS'].str.lower()\n",
        "training_set.head()"
      ],
      "execution_count": 12,
      "outputs": [
        {
          "output_type": "execute_result",
          "data": {
            "text/html": [
              "<div>\n",
              "<style scoped>\n",
              "    .dataframe tbody tr th:only-of-type {\n",
              "        vertical-align: middle;\n",
              "    }\n",
              "\n",
              "    .dataframe tbody tr th {\n",
              "        vertical-align: top;\n",
              "    }\n",
              "\n",
              "    .dataframe thead th {\n",
              "        text-align: right;\n",
              "    }\n",
              "</style>\n",
              "<table border=\"1\" class=\"dataframe\">\n",
              "  <thead>\n",
              "    <tr style=\"text-align: right;\">\n",
              "      <th></th>\n",
              "      <th>Label</th>\n",
              "      <th>SMS</th>\n",
              "    </tr>\n",
              "  </thead>\n",
              "  <tbody>\n",
              "    <tr>\n",
              "      <th>0</th>\n",
              "      <td>ham</td>\n",
              "      <td>yep  by the pretty sculpture</td>\n",
              "    </tr>\n",
              "    <tr>\n",
              "      <th>1</th>\n",
              "      <td>ham</td>\n",
              "      <td>yes  princess  are you going to make me moan</td>\n",
              "    </tr>\n",
              "    <tr>\n",
              "      <th>2</th>\n",
              "      <td>ham</td>\n",
              "      <td>welp apparently he retired</td>\n",
              "    </tr>\n",
              "    <tr>\n",
              "      <th>3</th>\n",
              "      <td>ham</td>\n",
              "      <td>havent</td>\n",
              "    </tr>\n",
              "    <tr>\n",
              "      <th>4</th>\n",
              "      <td>ham</td>\n",
              "      <td>i forgot 2 ask ü all smth   there s a card on ...</td>\n",
              "    </tr>\n",
              "  </tbody>\n",
              "</table>\n",
              "</div>"
            ],
            "text/plain": [
              "  Label                                                SMS\n",
              "0   ham                       yep  by the pretty sculpture\n",
              "1   ham      yes  princess  are you going to make me moan \n",
              "2   ham                         welp apparently he retired\n",
              "3   ham                                            havent \n",
              "4   ham  i forgot 2 ask ü all smth   there s a card on ..."
            ]
          },
          "metadata": {
            "tags": []
          },
          "execution_count": 12
        }
      ]
    },
    {
      "cell_type": "code",
      "metadata": {
        "id": "_2gI5zpZcGZW"
      },
      "source": [
        "training_set['SMS'] = training_set['SMS'].str.split()\n",
        "\n",
        "vocabulary = []\n",
        "for sms in training_set['SMS']:\n",
        "    for word in sms:\n",
        "        vocabulary.append(word)\n",
        "        \n",
        "vocabulary = list(set(vocabulary))"
      ],
      "execution_count": 13,
      "outputs": []
    },
    {
      "cell_type": "code",
      "metadata": {
        "colab": {
          "base_uri": "https://localhost:8080/"
        },
        "id": "VmcNhq0CcGZW",
        "outputId": "457de672-991d-4a66-8455-77938e21fde3"
      },
      "source": [
        "len(vocabulary)"
      ],
      "execution_count": 14,
      "outputs": [
        {
          "output_type": "execute_result",
          "data": {
            "text/plain": [
              "7783"
            ]
          },
          "metadata": {
            "tags": []
          },
          "execution_count": 14
        }
      ]
    },
    {
      "cell_type": "markdown",
      "metadata": {
        "id": "-2n3V1t0dwt7"
      },
      "source": [
        "## The final training set"
      ]
    },
    {
      "cell_type": "markdown",
      "metadata": {
        "id": "NEVMOQmad2el"
      },
      "source": [
        "we are now going to use the vocabulary we just created to make the data transformation we want"
      ]
    },
    {
      "cell_type": "code",
      "metadata": {
        "collapsed": true,
        "id": "0QMgmM6PcGZW"
      },
      "source": [
        "word_counts_per_sms = {unique_word: [0] * len(training_set['SMS']) for unique_word in vocabulary}\n",
        "\n",
        "for index, sms in enumerate(training_set['SMS']):\n",
        "    for word in sms:\n",
        "        word_counts_per_sms[word][index] += 1"
      ],
      "execution_count": 15,
      "outputs": []
    },
    {
      "cell_type": "code",
      "metadata": {
        "colab": {
          "base_uri": "https://localhost:8080/",
          "height": 253
        },
        "id": "11ImpM7tcGZX",
        "outputId": "e852fe10-72d1-4874-8a53-740c99f420a1"
      },
      "source": [
        "word_counts = pd.DataFrame(word_counts_per_sms)\n",
        "word_counts.head()"
      ],
      "execution_count": 16,
      "outputs": [
        {
          "output_type": "execute_result",
          "data": {
            "text/html": [
              "<div>\n",
              "<style scoped>\n",
              "    .dataframe tbody tr th:only-of-type {\n",
              "        vertical-align: middle;\n",
              "    }\n",
              "\n",
              "    .dataframe tbody tr th {\n",
              "        vertical-align: top;\n",
              "    }\n",
              "\n",
              "    .dataframe thead th {\n",
              "        text-align: right;\n",
              "    }\n",
              "</style>\n",
              "<table border=\"1\" class=\"dataframe\">\n",
              "  <thead>\n",
              "    <tr style=\"text-align: right;\">\n",
              "      <th></th>\n",
              "      <th>apologize</th>\n",
              "      <th>c52</th>\n",
              "      <th>parent</th>\n",
              "      <th>complementary</th>\n",
              "      <th>motivating</th>\n",
              "      <th>shipping</th>\n",
              "      <th>140ppm</th>\n",
              "      <th>dating</th>\n",
              "      <th>edition</th>\n",
              "      <th>acl03530150pm</th>\n",
              "      <th>dokey</th>\n",
              "      <th>persian</th>\n",
              "      <th>headache</th>\n",
              "      <th>barkleys</th>\n",
              "      <th>ip4</th>\n",
              "      <th>easiest</th>\n",
              "      <th>academic</th>\n",
              "      <th>doctor</th>\n",
              "      <th>summers</th>\n",
              "      <th>hurried</th>\n",
              "      <th>hun</th>\n",
              "      <th>inst</th>\n",
              "      <th>scenario</th>\n",
              "      <th>affairs</th>\n",
              "      <th>nearly</th>\n",
              "      <th>sorry</th>\n",
              "      <th>walk</th>\n",
              "      <th>tau</th>\n",
              "      <th>qi</th>\n",
              "      <th>utter</th>\n",
              "      <th>major</th>\n",
              "      <th>credits</th>\n",
              "      <th>150p</th>\n",
              "      <th>okors</th>\n",
              "      <th>brain</th>\n",
              "      <th>idea</th>\n",
              "      <th>fetching</th>\n",
              "      <th>downstem</th>\n",
              "      <th>uncle</th>\n",
              "      <th>praveesh</th>\n",
              "      <th>...</th>\n",
              "      <th>uks</th>\n",
              "      <th>usf</th>\n",
              "      <th>february</th>\n",
              "      <th>easter</th>\n",
              "      <th>start</th>\n",
              "      <th>clean</th>\n",
              "      <th>wrecked</th>\n",
              "      <th>youwanna</th>\n",
              "      <th>await</th>\n",
              "      <th>begin</th>\n",
              "      <th>renting</th>\n",
              "      <th>bro</th>\n",
              "      <th>2wks</th>\n",
              "      <th>workin</th>\n",
              "      <th>ipads</th>\n",
              "      <th>likely</th>\n",
              "      <th>28th</th>\n",
              "      <th>tiger</th>\n",
              "      <th>friendships</th>\n",
              "      <th>reg</th>\n",
              "      <th>massive</th>\n",
              "      <th>belly</th>\n",
              "      <th>ringtoneking</th>\n",
              "      <th>breathe1</th>\n",
              "      <th>makes</th>\n",
              "      <th>soundtrack</th>\n",
              "      <th>gloucesterroad</th>\n",
              "      <th>successfully</th>\n",
              "      <th>motive</th>\n",
              "      <th>sucker</th>\n",
              "      <th>helpline</th>\n",
              "      <th>friday</th>\n",
              "      <th>complain</th>\n",
              "      <th>tones2u</th>\n",
              "      <th>waves</th>\n",
              "      <th>troubleshooting</th>\n",
              "      <th>hunt</th>\n",
              "      <th>purple</th>\n",
              "      <th>visitors</th>\n",
              "      <th>clubmoby</th>\n",
              "    </tr>\n",
              "  </thead>\n",
              "  <tbody>\n",
              "    <tr>\n",
              "      <th>0</th>\n",
              "      <td>0</td>\n",
              "      <td>0</td>\n",
              "      <td>0</td>\n",
              "      <td>0</td>\n",
              "      <td>0</td>\n",
              "      <td>0</td>\n",
              "      <td>0</td>\n",
              "      <td>0</td>\n",
              "      <td>0</td>\n",
              "      <td>0</td>\n",
              "      <td>0</td>\n",
              "      <td>0</td>\n",
              "      <td>0</td>\n",
              "      <td>0</td>\n",
              "      <td>0</td>\n",
              "      <td>0</td>\n",
              "      <td>0</td>\n",
              "      <td>0</td>\n",
              "      <td>0</td>\n",
              "      <td>0</td>\n",
              "      <td>0</td>\n",
              "      <td>0</td>\n",
              "      <td>0</td>\n",
              "      <td>0</td>\n",
              "      <td>0</td>\n",
              "      <td>0</td>\n",
              "      <td>0</td>\n",
              "      <td>0</td>\n",
              "      <td>0</td>\n",
              "      <td>0</td>\n",
              "      <td>0</td>\n",
              "      <td>0</td>\n",
              "      <td>0</td>\n",
              "      <td>0</td>\n",
              "      <td>0</td>\n",
              "      <td>0</td>\n",
              "      <td>0</td>\n",
              "      <td>0</td>\n",
              "      <td>0</td>\n",
              "      <td>0</td>\n",
              "      <td>...</td>\n",
              "      <td>0</td>\n",
              "      <td>0</td>\n",
              "      <td>0</td>\n",
              "      <td>0</td>\n",
              "      <td>0</td>\n",
              "      <td>0</td>\n",
              "      <td>0</td>\n",
              "      <td>0</td>\n",
              "      <td>0</td>\n",
              "      <td>0</td>\n",
              "      <td>0</td>\n",
              "      <td>0</td>\n",
              "      <td>0</td>\n",
              "      <td>0</td>\n",
              "      <td>0</td>\n",
              "      <td>0</td>\n",
              "      <td>0</td>\n",
              "      <td>0</td>\n",
              "      <td>0</td>\n",
              "      <td>0</td>\n",
              "      <td>0</td>\n",
              "      <td>0</td>\n",
              "      <td>0</td>\n",
              "      <td>0</td>\n",
              "      <td>0</td>\n",
              "      <td>0</td>\n",
              "      <td>0</td>\n",
              "      <td>0</td>\n",
              "      <td>0</td>\n",
              "      <td>0</td>\n",
              "      <td>0</td>\n",
              "      <td>0</td>\n",
              "      <td>0</td>\n",
              "      <td>0</td>\n",
              "      <td>0</td>\n",
              "      <td>0</td>\n",
              "      <td>0</td>\n",
              "      <td>0</td>\n",
              "      <td>0</td>\n",
              "      <td>0</td>\n",
              "    </tr>\n",
              "    <tr>\n",
              "      <th>1</th>\n",
              "      <td>0</td>\n",
              "      <td>0</td>\n",
              "      <td>0</td>\n",
              "      <td>0</td>\n",
              "      <td>0</td>\n",
              "      <td>0</td>\n",
              "      <td>0</td>\n",
              "      <td>0</td>\n",
              "      <td>0</td>\n",
              "      <td>0</td>\n",
              "      <td>0</td>\n",
              "      <td>0</td>\n",
              "      <td>0</td>\n",
              "      <td>0</td>\n",
              "      <td>0</td>\n",
              "      <td>0</td>\n",
              "      <td>0</td>\n",
              "      <td>0</td>\n",
              "      <td>0</td>\n",
              "      <td>0</td>\n",
              "      <td>0</td>\n",
              "      <td>0</td>\n",
              "      <td>0</td>\n",
              "      <td>0</td>\n",
              "      <td>0</td>\n",
              "      <td>0</td>\n",
              "      <td>0</td>\n",
              "      <td>0</td>\n",
              "      <td>0</td>\n",
              "      <td>0</td>\n",
              "      <td>0</td>\n",
              "      <td>0</td>\n",
              "      <td>0</td>\n",
              "      <td>0</td>\n",
              "      <td>0</td>\n",
              "      <td>0</td>\n",
              "      <td>0</td>\n",
              "      <td>0</td>\n",
              "      <td>0</td>\n",
              "      <td>0</td>\n",
              "      <td>...</td>\n",
              "      <td>0</td>\n",
              "      <td>0</td>\n",
              "      <td>0</td>\n",
              "      <td>0</td>\n",
              "      <td>0</td>\n",
              "      <td>0</td>\n",
              "      <td>0</td>\n",
              "      <td>0</td>\n",
              "      <td>0</td>\n",
              "      <td>0</td>\n",
              "      <td>0</td>\n",
              "      <td>0</td>\n",
              "      <td>0</td>\n",
              "      <td>0</td>\n",
              "      <td>0</td>\n",
              "      <td>0</td>\n",
              "      <td>0</td>\n",
              "      <td>0</td>\n",
              "      <td>0</td>\n",
              "      <td>0</td>\n",
              "      <td>0</td>\n",
              "      <td>0</td>\n",
              "      <td>0</td>\n",
              "      <td>0</td>\n",
              "      <td>0</td>\n",
              "      <td>0</td>\n",
              "      <td>0</td>\n",
              "      <td>0</td>\n",
              "      <td>0</td>\n",
              "      <td>0</td>\n",
              "      <td>0</td>\n",
              "      <td>0</td>\n",
              "      <td>0</td>\n",
              "      <td>0</td>\n",
              "      <td>0</td>\n",
              "      <td>0</td>\n",
              "      <td>0</td>\n",
              "      <td>0</td>\n",
              "      <td>0</td>\n",
              "      <td>0</td>\n",
              "    </tr>\n",
              "    <tr>\n",
              "      <th>2</th>\n",
              "      <td>0</td>\n",
              "      <td>0</td>\n",
              "      <td>0</td>\n",
              "      <td>0</td>\n",
              "      <td>0</td>\n",
              "      <td>0</td>\n",
              "      <td>0</td>\n",
              "      <td>0</td>\n",
              "      <td>0</td>\n",
              "      <td>0</td>\n",
              "      <td>0</td>\n",
              "      <td>0</td>\n",
              "      <td>0</td>\n",
              "      <td>0</td>\n",
              "      <td>0</td>\n",
              "      <td>0</td>\n",
              "      <td>0</td>\n",
              "      <td>0</td>\n",
              "      <td>0</td>\n",
              "      <td>0</td>\n",
              "      <td>0</td>\n",
              "      <td>0</td>\n",
              "      <td>0</td>\n",
              "      <td>0</td>\n",
              "      <td>0</td>\n",
              "      <td>0</td>\n",
              "      <td>0</td>\n",
              "      <td>0</td>\n",
              "      <td>0</td>\n",
              "      <td>0</td>\n",
              "      <td>0</td>\n",
              "      <td>0</td>\n",
              "      <td>0</td>\n",
              "      <td>0</td>\n",
              "      <td>0</td>\n",
              "      <td>0</td>\n",
              "      <td>0</td>\n",
              "      <td>0</td>\n",
              "      <td>0</td>\n",
              "      <td>0</td>\n",
              "      <td>...</td>\n",
              "      <td>0</td>\n",
              "      <td>0</td>\n",
              "      <td>0</td>\n",
              "      <td>0</td>\n",
              "      <td>0</td>\n",
              "      <td>0</td>\n",
              "      <td>0</td>\n",
              "      <td>0</td>\n",
              "      <td>0</td>\n",
              "      <td>0</td>\n",
              "      <td>0</td>\n",
              "      <td>0</td>\n",
              "      <td>0</td>\n",
              "      <td>0</td>\n",
              "      <td>0</td>\n",
              "      <td>0</td>\n",
              "      <td>0</td>\n",
              "      <td>0</td>\n",
              "      <td>0</td>\n",
              "      <td>0</td>\n",
              "      <td>0</td>\n",
              "      <td>0</td>\n",
              "      <td>0</td>\n",
              "      <td>0</td>\n",
              "      <td>0</td>\n",
              "      <td>0</td>\n",
              "      <td>0</td>\n",
              "      <td>0</td>\n",
              "      <td>0</td>\n",
              "      <td>0</td>\n",
              "      <td>0</td>\n",
              "      <td>0</td>\n",
              "      <td>0</td>\n",
              "      <td>0</td>\n",
              "      <td>0</td>\n",
              "      <td>0</td>\n",
              "      <td>0</td>\n",
              "      <td>0</td>\n",
              "      <td>0</td>\n",
              "      <td>0</td>\n",
              "    </tr>\n",
              "    <tr>\n",
              "      <th>3</th>\n",
              "      <td>0</td>\n",
              "      <td>0</td>\n",
              "      <td>0</td>\n",
              "      <td>0</td>\n",
              "      <td>0</td>\n",
              "      <td>0</td>\n",
              "      <td>0</td>\n",
              "      <td>0</td>\n",
              "      <td>0</td>\n",
              "      <td>0</td>\n",
              "      <td>0</td>\n",
              "      <td>0</td>\n",
              "      <td>0</td>\n",
              "      <td>0</td>\n",
              "      <td>0</td>\n",
              "      <td>0</td>\n",
              "      <td>0</td>\n",
              "      <td>0</td>\n",
              "      <td>0</td>\n",
              "      <td>0</td>\n",
              "      <td>0</td>\n",
              "      <td>0</td>\n",
              "      <td>0</td>\n",
              "      <td>0</td>\n",
              "      <td>0</td>\n",
              "      <td>0</td>\n",
              "      <td>0</td>\n",
              "      <td>0</td>\n",
              "      <td>0</td>\n",
              "      <td>0</td>\n",
              "      <td>0</td>\n",
              "      <td>0</td>\n",
              "      <td>0</td>\n",
              "      <td>0</td>\n",
              "      <td>0</td>\n",
              "      <td>0</td>\n",
              "      <td>0</td>\n",
              "      <td>0</td>\n",
              "      <td>0</td>\n",
              "      <td>0</td>\n",
              "      <td>...</td>\n",
              "      <td>0</td>\n",
              "      <td>0</td>\n",
              "      <td>0</td>\n",
              "      <td>0</td>\n",
              "      <td>0</td>\n",
              "      <td>0</td>\n",
              "      <td>0</td>\n",
              "      <td>0</td>\n",
              "      <td>0</td>\n",
              "      <td>0</td>\n",
              "      <td>0</td>\n",
              "      <td>0</td>\n",
              "      <td>0</td>\n",
              "      <td>0</td>\n",
              "      <td>0</td>\n",
              "      <td>0</td>\n",
              "      <td>0</td>\n",
              "      <td>0</td>\n",
              "      <td>0</td>\n",
              "      <td>0</td>\n",
              "      <td>0</td>\n",
              "      <td>0</td>\n",
              "      <td>0</td>\n",
              "      <td>0</td>\n",
              "      <td>0</td>\n",
              "      <td>0</td>\n",
              "      <td>0</td>\n",
              "      <td>0</td>\n",
              "      <td>0</td>\n",
              "      <td>0</td>\n",
              "      <td>0</td>\n",
              "      <td>0</td>\n",
              "      <td>0</td>\n",
              "      <td>0</td>\n",
              "      <td>0</td>\n",
              "      <td>0</td>\n",
              "      <td>0</td>\n",
              "      <td>0</td>\n",
              "      <td>0</td>\n",
              "      <td>0</td>\n",
              "    </tr>\n",
              "    <tr>\n",
              "      <th>4</th>\n",
              "      <td>0</td>\n",
              "      <td>0</td>\n",
              "      <td>0</td>\n",
              "      <td>0</td>\n",
              "      <td>0</td>\n",
              "      <td>0</td>\n",
              "      <td>0</td>\n",
              "      <td>0</td>\n",
              "      <td>0</td>\n",
              "      <td>0</td>\n",
              "      <td>0</td>\n",
              "      <td>0</td>\n",
              "      <td>0</td>\n",
              "      <td>0</td>\n",
              "      <td>0</td>\n",
              "      <td>0</td>\n",
              "      <td>0</td>\n",
              "      <td>0</td>\n",
              "      <td>0</td>\n",
              "      <td>0</td>\n",
              "      <td>0</td>\n",
              "      <td>0</td>\n",
              "      <td>0</td>\n",
              "      <td>0</td>\n",
              "      <td>0</td>\n",
              "      <td>0</td>\n",
              "      <td>0</td>\n",
              "      <td>0</td>\n",
              "      <td>0</td>\n",
              "      <td>0</td>\n",
              "      <td>0</td>\n",
              "      <td>0</td>\n",
              "      <td>0</td>\n",
              "      <td>0</td>\n",
              "      <td>0</td>\n",
              "      <td>0</td>\n",
              "      <td>0</td>\n",
              "      <td>0</td>\n",
              "      <td>0</td>\n",
              "      <td>0</td>\n",
              "      <td>...</td>\n",
              "      <td>0</td>\n",
              "      <td>0</td>\n",
              "      <td>0</td>\n",
              "      <td>0</td>\n",
              "      <td>0</td>\n",
              "      <td>0</td>\n",
              "      <td>0</td>\n",
              "      <td>0</td>\n",
              "      <td>0</td>\n",
              "      <td>0</td>\n",
              "      <td>0</td>\n",
              "      <td>0</td>\n",
              "      <td>0</td>\n",
              "      <td>0</td>\n",
              "      <td>0</td>\n",
              "      <td>0</td>\n",
              "      <td>0</td>\n",
              "      <td>0</td>\n",
              "      <td>0</td>\n",
              "      <td>0</td>\n",
              "      <td>0</td>\n",
              "      <td>0</td>\n",
              "      <td>0</td>\n",
              "      <td>0</td>\n",
              "      <td>0</td>\n",
              "      <td>0</td>\n",
              "      <td>0</td>\n",
              "      <td>0</td>\n",
              "      <td>0</td>\n",
              "      <td>0</td>\n",
              "      <td>0</td>\n",
              "      <td>0</td>\n",
              "      <td>0</td>\n",
              "      <td>0</td>\n",
              "      <td>0</td>\n",
              "      <td>0</td>\n",
              "      <td>0</td>\n",
              "      <td>0</td>\n",
              "      <td>0</td>\n",
              "      <td>0</td>\n",
              "    </tr>\n",
              "  </tbody>\n",
              "</table>\n",
              "<p>5 rows × 7783 columns</p>\n",
              "</div>"
            ],
            "text/plain": [
              "   apologize  c52  parent  complementary  ...  hunt  purple  visitors  clubmoby\n",
              "0          0    0       0              0  ...     0       0         0         0\n",
              "1          0    0       0              0  ...     0       0         0         0\n",
              "2          0    0       0              0  ...     0       0         0         0\n",
              "3          0    0       0              0  ...     0       0         0         0\n",
              "4          0    0       0              0  ...     0       0         0         0\n",
              "\n",
              "[5 rows x 7783 columns]"
            ]
          },
          "metadata": {
            "tags": []
          },
          "execution_count": 16
        }
      ]
    },
    {
      "cell_type": "code",
      "metadata": {
        "colab": {
          "base_uri": "https://localhost:8080/",
          "height": 474
        },
        "id": "wBImuPetcGZX",
        "outputId": "adf18ef7-4840-474c-93b9-90ec27610ba3"
      },
      "source": [
        "training_set_clean = pd.concat([training_set, word_counts], axis=1)\n",
        "training_set_clean.head()"
      ],
      "execution_count": 17,
      "outputs": [
        {
          "output_type": "execute_result",
          "data": {
            "text/html": [
              "<div>\n",
              "<style scoped>\n",
              "    .dataframe tbody tr th:only-of-type {\n",
              "        vertical-align: middle;\n",
              "    }\n",
              "\n",
              "    .dataframe tbody tr th {\n",
              "        vertical-align: top;\n",
              "    }\n",
              "\n",
              "    .dataframe thead th {\n",
              "        text-align: right;\n",
              "    }\n",
              "</style>\n",
              "<table border=\"1\" class=\"dataframe\">\n",
              "  <thead>\n",
              "    <tr style=\"text-align: right;\">\n",
              "      <th></th>\n",
              "      <th>Label</th>\n",
              "      <th>SMS</th>\n",
              "      <th>apologize</th>\n",
              "      <th>c52</th>\n",
              "      <th>parent</th>\n",
              "      <th>complementary</th>\n",
              "      <th>motivating</th>\n",
              "      <th>shipping</th>\n",
              "      <th>140ppm</th>\n",
              "      <th>dating</th>\n",
              "      <th>edition</th>\n",
              "      <th>acl03530150pm</th>\n",
              "      <th>dokey</th>\n",
              "      <th>persian</th>\n",
              "      <th>headache</th>\n",
              "      <th>barkleys</th>\n",
              "      <th>ip4</th>\n",
              "      <th>easiest</th>\n",
              "      <th>academic</th>\n",
              "      <th>doctor</th>\n",
              "      <th>summers</th>\n",
              "      <th>hurried</th>\n",
              "      <th>hun</th>\n",
              "      <th>inst</th>\n",
              "      <th>scenario</th>\n",
              "      <th>affairs</th>\n",
              "      <th>nearly</th>\n",
              "      <th>sorry</th>\n",
              "      <th>walk</th>\n",
              "      <th>tau</th>\n",
              "      <th>qi</th>\n",
              "      <th>utter</th>\n",
              "      <th>major</th>\n",
              "      <th>credits</th>\n",
              "      <th>150p</th>\n",
              "      <th>okors</th>\n",
              "      <th>brain</th>\n",
              "      <th>idea</th>\n",
              "      <th>fetching</th>\n",
              "      <th>downstem</th>\n",
              "      <th>...</th>\n",
              "      <th>uks</th>\n",
              "      <th>usf</th>\n",
              "      <th>february</th>\n",
              "      <th>easter</th>\n",
              "      <th>start</th>\n",
              "      <th>clean</th>\n",
              "      <th>wrecked</th>\n",
              "      <th>youwanna</th>\n",
              "      <th>await</th>\n",
              "      <th>begin</th>\n",
              "      <th>renting</th>\n",
              "      <th>bro</th>\n",
              "      <th>2wks</th>\n",
              "      <th>workin</th>\n",
              "      <th>ipads</th>\n",
              "      <th>likely</th>\n",
              "      <th>28th</th>\n",
              "      <th>tiger</th>\n",
              "      <th>friendships</th>\n",
              "      <th>reg</th>\n",
              "      <th>massive</th>\n",
              "      <th>belly</th>\n",
              "      <th>ringtoneking</th>\n",
              "      <th>breathe1</th>\n",
              "      <th>makes</th>\n",
              "      <th>soundtrack</th>\n",
              "      <th>gloucesterroad</th>\n",
              "      <th>successfully</th>\n",
              "      <th>motive</th>\n",
              "      <th>sucker</th>\n",
              "      <th>helpline</th>\n",
              "      <th>friday</th>\n",
              "      <th>complain</th>\n",
              "      <th>tones2u</th>\n",
              "      <th>waves</th>\n",
              "      <th>troubleshooting</th>\n",
              "      <th>hunt</th>\n",
              "      <th>purple</th>\n",
              "      <th>visitors</th>\n",
              "      <th>clubmoby</th>\n",
              "    </tr>\n",
              "  </thead>\n",
              "  <tbody>\n",
              "    <tr>\n",
              "      <th>0</th>\n",
              "      <td>ham</td>\n",
              "      <td>[yep, by, the, pretty, sculpture]</td>\n",
              "      <td>0</td>\n",
              "      <td>0</td>\n",
              "      <td>0</td>\n",
              "      <td>0</td>\n",
              "      <td>0</td>\n",
              "      <td>0</td>\n",
              "      <td>0</td>\n",
              "      <td>0</td>\n",
              "      <td>0</td>\n",
              "      <td>0</td>\n",
              "      <td>0</td>\n",
              "      <td>0</td>\n",
              "      <td>0</td>\n",
              "      <td>0</td>\n",
              "      <td>0</td>\n",
              "      <td>0</td>\n",
              "      <td>0</td>\n",
              "      <td>0</td>\n",
              "      <td>0</td>\n",
              "      <td>0</td>\n",
              "      <td>0</td>\n",
              "      <td>0</td>\n",
              "      <td>0</td>\n",
              "      <td>0</td>\n",
              "      <td>0</td>\n",
              "      <td>0</td>\n",
              "      <td>0</td>\n",
              "      <td>0</td>\n",
              "      <td>0</td>\n",
              "      <td>0</td>\n",
              "      <td>0</td>\n",
              "      <td>0</td>\n",
              "      <td>0</td>\n",
              "      <td>0</td>\n",
              "      <td>0</td>\n",
              "      <td>0</td>\n",
              "      <td>0</td>\n",
              "      <td>0</td>\n",
              "      <td>...</td>\n",
              "      <td>0</td>\n",
              "      <td>0</td>\n",
              "      <td>0</td>\n",
              "      <td>0</td>\n",
              "      <td>0</td>\n",
              "      <td>0</td>\n",
              "      <td>0</td>\n",
              "      <td>0</td>\n",
              "      <td>0</td>\n",
              "      <td>0</td>\n",
              "      <td>0</td>\n",
              "      <td>0</td>\n",
              "      <td>0</td>\n",
              "      <td>0</td>\n",
              "      <td>0</td>\n",
              "      <td>0</td>\n",
              "      <td>0</td>\n",
              "      <td>0</td>\n",
              "      <td>0</td>\n",
              "      <td>0</td>\n",
              "      <td>0</td>\n",
              "      <td>0</td>\n",
              "      <td>0</td>\n",
              "      <td>0</td>\n",
              "      <td>0</td>\n",
              "      <td>0</td>\n",
              "      <td>0</td>\n",
              "      <td>0</td>\n",
              "      <td>0</td>\n",
              "      <td>0</td>\n",
              "      <td>0</td>\n",
              "      <td>0</td>\n",
              "      <td>0</td>\n",
              "      <td>0</td>\n",
              "      <td>0</td>\n",
              "      <td>0</td>\n",
              "      <td>0</td>\n",
              "      <td>0</td>\n",
              "      <td>0</td>\n",
              "      <td>0</td>\n",
              "    </tr>\n",
              "    <tr>\n",
              "      <th>1</th>\n",
              "      <td>ham</td>\n",
              "      <td>[yes, princess, are, you, going, to, make, me,...</td>\n",
              "      <td>0</td>\n",
              "      <td>0</td>\n",
              "      <td>0</td>\n",
              "      <td>0</td>\n",
              "      <td>0</td>\n",
              "      <td>0</td>\n",
              "      <td>0</td>\n",
              "      <td>0</td>\n",
              "      <td>0</td>\n",
              "      <td>0</td>\n",
              "      <td>0</td>\n",
              "      <td>0</td>\n",
              "      <td>0</td>\n",
              "      <td>0</td>\n",
              "      <td>0</td>\n",
              "      <td>0</td>\n",
              "      <td>0</td>\n",
              "      <td>0</td>\n",
              "      <td>0</td>\n",
              "      <td>0</td>\n",
              "      <td>0</td>\n",
              "      <td>0</td>\n",
              "      <td>0</td>\n",
              "      <td>0</td>\n",
              "      <td>0</td>\n",
              "      <td>0</td>\n",
              "      <td>0</td>\n",
              "      <td>0</td>\n",
              "      <td>0</td>\n",
              "      <td>0</td>\n",
              "      <td>0</td>\n",
              "      <td>0</td>\n",
              "      <td>0</td>\n",
              "      <td>0</td>\n",
              "      <td>0</td>\n",
              "      <td>0</td>\n",
              "      <td>0</td>\n",
              "      <td>0</td>\n",
              "      <td>...</td>\n",
              "      <td>0</td>\n",
              "      <td>0</td>\n",
              "      <td>0</td>\n",
              "      <td>0</td>\n",
              "      <td>0</td>\n",
              "      <td>0</td>\n",
              "      <td>0</td>\n",
              "      <td>0</td>\n",
              "      <td>0</td>\n",
              "      <td>0</td>\n",
              "      <td>0</td>\n",
              "      <td>0</td>\n",
              "      <td>0</td>\n",
              "      <td>0</td>\n",
              "      <td>0</td>\n",
              "      <td>0</td>\n",
              "      <td>0</td>\n",
              "      <td>0</td>\n",
              "      <td>0</td>\n",
              "      <td>0</td>\n",
              "      <td>0</td>\n",
              "      <td>0</td>\n",
              "      <td>0</td>\n",
              "      <td>0</td>\n",
              "      <td>0</td>\n",
              "      <td>0</td>\n",
              "      <td>0</td>\n",
              "      <td>0</td>\n",
              "      <td>0</td>\n",
              "      <td>0</td>\n",
              "      <td>0</td>\n",
              "      <td>0</td>\n",
              "      <td>0</td>\n",
              "      <td>0</td>\n",
              "      <td>0</td>\n",
              "      <td>0</td>\n",
              "      <td>0</td>\n",
              "      <td>0</td>\n",
              "      <td>0</td>\n",
              "      <td>0</td>\n",
              "    </tr>\n",
              "    <tr>\n",
              "      <th>2</th>\n",
              "      <td>ham</td>\n",
              "      <td>[welp, apparently, he, retired]</td>\n",
              "      <td>0</td>\n",
              "      <td>0</td>\n",
              "      <td>0</td>\n",
              "      <td>0</td>\n",
              "      <td>0</td>\n",
              "      <td>0</td>\n",
              "      <td>0</td>\n",
              "      <td>0</td>\n",
              "      <td>0</td>\n",
              "      <td>0</td>\n",
              "      <td>0</td>\n",
              "      <td>0</td>\n",
              "      <td>0</td>\n",
              "      <td>0</td>\n",
              "      <td>0</td>\n",
              "      <td>0</td>\n",
              "      <td>0</td>\n",
              "      <td>0</td>\n",
              "      <td>0</td>\n",
              "      <td>0</td>\n",
              "      <td>0</td>\n",
              "      <td>0</td>\n",
              "      <td>0</td>\n",
              "      <td>0</td>\n",
              "      <td>0</td>\n",
              "      <td>0</td>\n",
              "      <td>0</td>\n",
              "      <td>0</td>\n",
              "      <td>0</td>\n",
              "      <td>0</td>\n",
              "      <td>0</td>\n",
              "      <td>0</td>\n",
              "      <td>0</td>\n",
              "      <td>0</td>\n",
              "      <td>0</td>\n",
              "      <td>0</td>\n",
              "      <td>0</td>\n",
              "      <td>0</td>\n",
              "      <td>...</td>\n",
              "      <td>0</td>\n",
              "      <td>0</td>\n",
              "      <td>0</td>\n",
              "      <td>0</td>\n",
              "      <td>0</td>\n",
              "      <td>0</td>\n",
              "      <td>0</td>\n",
              "      <td>0</td>\n",
              "      <td>0</td>\n",
              "      <td>0</td>\n",
              "      <td>0</td>\n",
              "      <td>0</td>\n",
              "      <td>0</td>\n",
              "      <td>0</td>\n",
              "      <td>0</td>\n",
              "      <td>0</td>\n",
              "      <td>0</td>\n",
              "      <td>0</td>\n",
              "      <td>0</td>\n",
              "      <td>0</td>\n",
              "      <td>0</td>\n",
              "      <td>0</td>\n",
              "      <td>0</td>\n",
              "      <td>0</td>\n",
              "      <td>0</td>\n",
              "      <td>0</td>\n",
              "      <td>0</td>\n",
              "      <td>0</td>\n",
              "      <td>0</td>\n",
              "      <td>0</td>\n",
              "      <td>0</td>\n",
              "      <td>0</td>\n",
              "      <td>0</td>\n",
              "      <td>0</td>\n",
              "      <td>0</td>\n",
              "      <td>0</td>\n",
              "      <td>0</td>\n",
              "      <td>0</td>\n",
              "      <td>0</td>\n",
              "      <td>0</td>\n",
              "    </tr>\n",
              "    <tr>\n",
              "      <th>3</th>\n",
              "      <td>ham</td>\n",
              "      <td>[havent]</td>\n",
              "      <td>0</td>\n",
              "      <td>0</td>\n",
              "      <td>0</td>\n",
              "      <td>0</td>\n",
              "      <td>0</td>\n",
              "      <td>0</td>\n",
              "      <td>0</td>\n",
              "      <td>0</td>\n",
              "      <td>0</td>\n",
              "      <td>0</td>\n",
              "      <td>0</td>\n",
              "      <td>0</td>\n",
              "      <td>0</td>\n",
              "      <td>0</td>\n",
              "      <td>0</td>\n",
              "      <td>0</td>\n",
              "      <td>0</td>\n",
              "      <td>0</td>\n",
              "      <td>0</td>\n",
              "      <td>0</td>\n",
              "      <td>0</td>\n",
              "      <td>0</td>\n",
              "      <td>0</td>\n",
              "      <td>0</td>\n",
              "      <td>0</td>\n",
              "      <td>0</td>\n",
              "      <td>0</td>\n",
              "      <td>0</td>\n",
              "      <td>0</td>\n",
              "      <td>0</td>\n",
              "      <td>0</td>\n",
              "      <td>0</td>\n",
              "      <td>0</td>\n",
              "      <td>0</td>\n",
              "      <td>0</td>\n",
              "      <td>0</td>\n",
              "      <td>0</td>\n",
              "      <td>0</td>\n",
              "      <td>...</td>\n",
              "      <td>0</td>\n",
              "      <td>0</td>\n",
              "      <td>0</td>\n",
              "      <td>0</td>\n",
              "      <td>0</td>\n",
              "      <td>0</td>\n",
              "      <td>0</td>\n",
              "      <td>0</td>\n",
              "      <td>0</td>\n",
              "      <td>0</td>\n",
              "      <td>0</td>\n",
              "      <td>0</td>\n",
              "      <td>0</td>\n",
              "      <td>0</td>\n",
              "      <td>0</td>\n",
              "      <td>0</td>\n",
              "      <td>0</td>\n",
              "      <td>0</td>\n",
              "      <td>0</td>\n",
              "      <td>0</td>\n",
              "      <td>0</td>\n",
              "      <td>0</td>\n",
              "      <td>0</td>\n",
              "      <td>0</td>\n",
              "      <td>0</td>\n",
              "      <td>0</td>\n",
              "      <td>0</td>\n",
              "      <td>0</td>\n",
              "      <td>0</td>\n",
              "      <td>0</td>\n",
              "      <td>0</td>\n",
              "      <td>0</td>\n",
              "      <td>0</td>\n",
              "      <td>0</td>\n",
              "      <td>0</td>\n",
              "      <td>0</td>\n",
              "      <td>0</td>\n",
              "      <td>0</td>\n",
              "      <td>0</td>\n",
              "      <td>0</td>\n",
              "    </tr>\n",
              "    <tr>\n",
              "      <th>4</th>\n",
              "      <td>ham</td>\n",
              "      <td>[i, forgot, 2, ask, ü, all, smth, there, s, a,...</td>\n",
              "      <td>0</td>\n",
              "      <td>0</td>\n",
              "      <td>0</td>\n",
              "      <td>0</td>\n",
              "      <td>0</td>\n",
              "      <td>0</td>\n",
              "      <td>0</td>\n",
              "      <td>0</td>\n",
              "      <td>0</td>\n",
              "      <td>0</td>\n",
              "      <td>0</td>\n",
              "      <td>0</td>\n",
              "      <td>0</td>\n",
              "      <td>0</td>\n",
              "      <td>0</td>\n",
              "      <td>0</td>\n",
              "      <td>0</td>\n",
              "      <td>0</td>\n",
              "      <td>0</td>\n",
              "      <td>0</td>\n",
              "      <td>0</td>\n",
              "      <td>0</td>\n",
              "      <td>0</td>\n",
              "      <td>0</td>\n",
              "      <td>0</td>\n",
              "      <td>0</td>\n",
              "      <td>0</td>\n",
              "      <td>0</td>\n",
              "      <td>0</td>\n",
              "      <td>0</td>\n",
              "      <td>0</td>\n",
              "      <td>0</td>\n",
              "      <td>0</td>\n",
              "      <td>0</td>\n",
              "      <td>0</td>\n",
              "      <td>0</td>\n",
              "      <td>0</td>\n",
              "      <td>0</td>\n",
              "      <td>...</td>\n",
              "      <td>0</td>\n",
              "      <td>0</td>\n",
              "      <td>0</td>\n",
              "      <td>0</td>\n",
              "      <td>0</td>\n",
              "      <td>0</td>\n",
              "      <td>0</td>\n",
              "      <td>0</td>\n",
              "      <td>0</td>\n",
              "      <td>0</td>\n",
              "      <td>0</td>\n",
              "      <td>0</td>\n",
              "      <td>0</td>\n",
              "      <td>0</td>\n",
              "      <td>0</td>\n",
              "      <td>0</td>\n",
              "      <td>0</td>\n",
              "      <td>0</td>\n",
              "      <td>0</td>\n",
              "      <td>0</td>\n",
              "      <td>0</td>\n",
              "      <td>0</td>\n",
              "      <td>0</td>\n",
              "      <td>0</td>\n",
              "      <td>0</td>\n",
              "      <td>0</td>\n",
              "      <td>0</td>\n",
              "      <td>0</td>\n",
              "      <td>0</td>\n",
              "      <td>0</td>\n",
              "      <td>0</td>\n",
              "      <td>0</td>\n",
              "      <td>0</td>\n",
              "      <td>0</td>\n",
              "      <td>0</td>\n",
              "      <td>0</td>\n",
              "      <td>0</td>\n",
              "      <td>0</td>\n",
              "      <td>0</td>\n",
              "      <td>0</td>\n",
              "    </tr>\n",
              "  </tbody>\n",
              "</table>\n",
              "<p>5 rows × 7785 columns</p>\n",
              "</div>"
            ],
            "text/plain": [
              "  Label                                                SMS  ...  visitors  clubmoby\n",
              "0   ham                  [yep, by, the, pretty, sculpture]  ...         0         0\n",
              "1   ham  [yes, princess, are, you, going, to, make, me,...  ...         0         0\n",
              "2   ham                    [welp, apparently, he, retired]  ...         0         0\n",
              "3   ham                                           [havent]  ...         0         0\n",
              "4   ham  [i, forgot, 2, ask, ü, all, smth, there, s, a,...  ...         0         0\n",
              "\n",
              "[5 rows x 7785 columns]"
            ]
          },
          "metadata": {
            "tags": []
          },
          "execution_count": 17
        }
      ]
    },
    {
      "cell_type": "markdown",
      "metadata": {
        "id": "fyvnfxVneIpl"
      },
      "source": [
        "## Calculating constants\n",
        "\n",
        "\n"
      ]
    },
    {
      "cell_type": "markdown",
      "metadata": {
        "id": "klVBTxxDg6gf"
      },
      "source": [
        "Naive Bayes algorithm will need to know the probability values of the two equations below to be able to classify new messages"
      ]
    },
    {
      "cell_type": "markdown",
      "metadata": {
        "id": "lWx28v0xhNz8"
      },
      "source": [
        "$$\n",
        "P(Spam | w_1,w_2, ..., w_n) \\propto P(Spam) \\cdot \\prod_{i=1}^{n}P(w_i|Spam)\n",
        "$$$$\n",
        "P(Ham | w_1,w_2, ..., w_n) \\propto P(Ham) \\cdot \\prod_{i=1}^{n}P(w_i|Ham)\n",
        "$$\n",
        "\n",
        "Also to calculate  P(wi|Spam) and P(wi|Ham) inside the formulas above, we'll need to use these equations:\n",
        "\n",
        "$$\n",
        "P(w_i|Spam) = \\frac{N_{w_i|Spam} + \\alpha}{N_{Spam} + \\alpha \\cdot N_{Vocabulary}}\n",
        "$$$$\n",
        "P(w_i|Ham) = \\frac{N_{w_i|Ham} + \\alpha}{N_{Ham} + \\alpha \\cdot N_{Vocabulary}}\n",
        "$$\n",
        "\n",
        "Some of the terms in the four equations above will have the same value for every new message.\n",
        "first calculate\n",
        "\n",
        "* P(Spam) and P(Ham)\n",
        "* NSpam, NHam, NVocabulary\n",
        "\n",
        "we also Laplace smoothing and set $\\alpha = 1$"
      ]
    },
    {
      "cell_type": "code",
      "metadata": {
        "id": "sOkUhKpZjBP8"
      },
      "source": [
        "# Isolating spam and ham messages first\n",
        "spam_messages = training_set_clean[training_set_clean['Label'] == 'spam']\n",
        "ham_messages = training_set_clean[training_set_clean['Label'] == 'ham']\n",
        "\n",
        "# P(Spam) and P(Ham)\n",
        "p_spam = len(spam_messages) / len(training_set_clean)\n",
        "p_ham = len(ham_messages) / len(training_set_clean)\n",
        "\n",
        "# N_Spam\n",
        "n_words_per_spam_message = spam_messages['SMS'].apply(len)\n",
        "n_spam = n_words_per_spam_message.sum()\n",
        "\n",
        "# N_Ham\n",
        "n_words_per_ham_message = ham_messages['SMS'].apply(len)\n",
        "n_ham = n_words_per_ham_message.sum()\n",
        "\n",
        "# N_Vocabulary\n",
        "n_vocabulary = len(vocabulary)\n",
        "\n",
        "# Laplace smoothing\n",
        "alpha = 1\n"
      ],
      "execution_count": 18,
      "outputs": []
    },
    {
      "cell_type": "markdown",
      "metadata": {
        "id": "GKCDOD3ZudGa"
      },
      "source": [
        "## Calculating parameters"
      ]
    },
    {
      "cell_type": "markdown",
      "metadata": {
        "id": "N6N7U50rukIo"
      },
      "source": [
        "Once we have calculated constants we need to move on with calculating the parameters ![image.png](data:image/png;base64,iVBORw0KGgoAAAANSUhEUgAAAFMAAAAQCAYAAABqfkPCAAADF0lEQVRYCdXXz7FMURAG8A5BABaWljIgAxb2ZMDSjgzIgAzIgAzIgAy8DKjfM9+rvmfOvW/MDI+umjr/ur/u/rrPuTVVx8utqnpzvPl/b/m8qu5tZfG0ql6238Oqur9i8KGqEHoOeVFVjydAD4ZYnkx0bnLrXVXd2QrgU1X9qCqJ+Fl/HohDut+55G1VqXQX6y/Nb9Zd56bniEToqkgAgRGEIrcn25OM3injjMxvVfVqAN0MfND9W0tcTbvT5kicd6HvWbvi55QZmRdV9X5worD/mih4b7Sr+FxdxPWHlbLEwj7DsWO8nfa/t2sJtH+gnH+88rSczMjkQywdY2n1ayVmXQyfrlszPks088FM8jrqUQNkz84of+dfd+f04M7iV+Bpc7lGEshHiDHQkVwOZ8I23cPGOkWQDKyZzMikl3i23ufcpl5gfvs6vpNHni77EXN2iPOLjpH/FC36GWEiek90oAQohIRRCSEhbHaWxBEOL7rwcjbarZEpQYH2Io22MPnpxIxkirmTm07rWPZ0eGIUP7us8eI3E/4Wkk6K8eKwLTjgeCYJGobkrEPm2M385Xp0MjspfFgjK7qj3zHJdGpi5F+yHZfN+HxYIzN6/Ik/4iyY2cu4R6bKjU6j3Ed6vcrjmUBDnGDMkTvr9ATeyUwhOq5Ee2L9bExSbP3ajbYhO0UOFpzEbU8BQ15sEm9sjM66v8szG3ub3Wo353CLTEFFEOuLnKCyL6hn7S3uZMIeb4e4Zj7HJHU7/8ZI7zB+xa9p2IbQ4BgJe2RGxCMG+x3bOYzFrYkDX69ROYAZna91yUiE9YwEWDASfCdTAZz5CPr39XrDX+KGo2Bsx/jtIw8O/Vx784h5byQxd4KscRPyY2dk27H62UFz1V9r+Q4Qsvpe5r2D71bV7d1BcNkKfiQn9kYJu8Z0tnw56+dbmB2/z7t93+9N0fcPnqv2WscdAoIkXXSq9HftVKxj7BF8jjwuQdJFvxuIQqx9lA7FynVd65hDcU7RczOO5WDhF8ixVUHE+FFagF+z4BtGfteo/5Fj7+TiufgJpnLDujN1Tw0AAAAASUVORK5CYII=) and ![image.png](data:image/png;base64,iVBORw0KGgoAAAANSUhEUgAAAE0AAAAQCAYAAABTGfKZAAAC4ElEQVRYCdXXzY0UMRAF4AqBI0cC4EAGcOQGGUAGkAFIJEAGEAEiA8gAMoAMIAPQ1+on1Rj39OzMrMSWZLldrp/nV2XPbtX5cq+q3p7vfmc8X1aVs24KgzdtPKuqxxvWn/eCbfjN1O+q6umw8bzhgMmaPBr0T1b9bU7v9876tar+VBUwhvW3wQm5xrXk00Y8nQzLmAuB9K+vBWAnDh6O3ioE6aIIhxHg92xead4i7WNV/Z7kCJlHr83E7xKVMz+YBaAcCXIdus66kzqLc1PdFmk/NnIp7LULt4dZocaOX3woEYSYCGPVDsuuxNiqKk7/K07r7C2I2Nc5M5mRlgKOQOWCccSQuPbltS+n5yXvIRs6pIvrnMi3Jux+bhTK3rRZHAqg/Bh8WZN2EgEaD7LmXHxdZ5JrvS6XX6Bp0qqakeZwsIQAJBhi0CdP4psRhqTgDQb6SIqBBCM2ZkOOWRfbE/sf0SmIkzSdNRpxFGAmvarp2tiKl+/Rd0Yacmbgt945MRXZoSMwjAdFlLgp/NiN8vYbklg48VwcCKUKCnpM9kgDGhDVBS5E0XWRL503I00BZ+C33jl54O9dJX4nUX6ku4IRNp1YeWccKHr3W/wFH5MmcJ9zXbou3wAAlSqm80Ji7DKnm0fSQsAIPoUdCyAeXP3wsU3RkhPpwUfXSYpPbPssTo+/7J36iwTwWL0Ep+/VkMSVGYEjy7u5RRoCZgWUmz5+yWuWK4fSbbH1nfwhJd1I3/+k4SMGO6ML29yMRf9qBaMKo3F39G0/4MY9pPXusAZkJoqUw/dOA071keM/kojv6F8M15CNvPY/rDnFEaPnDymJqThuRgReuPoZ+l7v0OhPnnVTqtWdQkJ04zp6vv2Rf1hV97N5wSxfz7nXAGMquLp/3+9F7vqTvzF+Cesqqcp3RXStLrxY3O9Zt50SONf2pp1wSuzbsFHgc896gEeQc7tF5WbvxkGC/2ThHTwg7C+14Ll+U6qahgAAAABJRU5ErkJggg==). Each parameter will be a conditional probability value associated with each word in the vocabulary\n",
        "\n",
        "the parameters are calculated using the next formulas:\n",
        "\n",
        "![image.png](data:image/png;base64,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)\n",
        "\n",
        "![image.png](data:image/png;base64,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)"
      ]
    },
    {
      "cell_type": "code",
      "metadata": {
        "id": "joYnOm9uvGvs"
      },
      "source": [
        "# Initiate parameters\n",
        "parameters_spam = {unique_word:0 for unique_word in vocabulary}\n",
        "parameters_ham = {unique_word:0 for unique_word in vocabulary}\n",
        "\n",
        "# Calculate parameters\n",
        "for word in vocabulary:\n",
        "    n_word_given_spam = spam_messages[word].sum()   # spam_messages already defined in a cell above\n",
        "    p_word_given_spam = (n_word_given_spam + alpha) / (n_spam + alpha*n_vocabulary)\n",
        "    parameters_spam[word] = p_word_given_spam\n",
        "    \n",
        "    n_word_given_ham = ham_messages[word].sum()   # ham_messages already defined in a cell above\n",
        "    p_word_given_ham = (n_word_given_ham + alpha) / (n_ham + alpha*n_vocabulary)\n",
        "    parameters_ham[word] = p_word_given_ham"
      ],
      "execution_count": 19,
      "outputs": []
    },
    {
      "cell_type": "markdown",
      "metadata": {
        "id": "MZtRHlcSxQ1U"
      },
      "source": [
        "## Creating spam filter"
      ]
    },
    {
      "cell_type": "markdown",
      "metadata": {
        "id": "xSxBRm4Mxizw"
      },
      "source": [
        "the spam filter will be a function that:\n",
        "\n",
        "* takes in as input a new message 'w1,w2...'\n",
        "* calculates P(spam|w1,w2...,wn) and P(Ham|w1,w2,...,wn), and:\n",
        "*compares the values of P(Spam|w1, w2, ..., wn) and P(Ham|w1, w2, ..., wn), and:\n",
        " * If P(Ham|w1, w2, ..., wn) > P(Spam|w1, w2, ..., wn), then the message is classified as ham.\n",
        " * If P(Ham|w1, w2, ..., wn) < P(Spam|w1, w2, ..., wn), then the message is classified as spam.\n",
        " * If P(Ham|w1, w2, ..., wn) = P(Spam|w1, w2, ..., wn), then the algorithm may request human help.\n"
      ]
    },
    {
      "cell_type": "code",
      "metadata": {
        "id": "NqHB9_n5yMxa"
      },
      "source": [
        "import re\n",
        "\n",
        "def classify(message):\n",
        "    '''\n",
        "    message: a string\n",
        "    '''\n",
        "    \n",
        "    message = re.sub('\\W', ' ', message)\n",
        "    message = message.lower().split()\n",
        "    \n",
        "    p_spam_given_message = p_spam\n",
        "    p_ham_given_message = p_ham\n",
        "\n",
        "    for word in message:\n",
        "        if word in parameters_spam:\n",
        "            p_spam_given_message *= parameters_spam[word]\n",
        "            \n",
        "        if word in parameters_ham:\n",
        "            p_ham_given_message *= parameters_ham[word]\n",
        "            \n",
        "    print('P(Spam|message):', p_spam_given_message)\n",
        "    print('P(Ham|message):', p_ham_given_message)\n",
        "    \n",
        "    if p_ham_given_message > p_spam_given_message:\n",
        "        print('Label: Ham')\n",
        "    elif p_ham_given_message < p_spam_given_message:\n",
        "        print('Label: Spam')\n",
        "    else:\n",
        "        print('Equal proabilities, have a human classify this!')"
      ],
      "execution_count": 20,
      "outputs": []
    },
    {
      "cell_type": "code",
      "metadata": {
        "colab": {
          "base_uri": "https://localhost:8080/"
        },
        "id": "z89lpms6yvyo",
        "outputId": "bdded996-66ea-4414-9b07-93b4c5b57c8d"
      },
      "source": [
        "classify('WINNER!! This is the secret code to unlock the money: C3421.')"
      ],
      "execution_count": 21,
      "outputs": [
        {
          "output_type": "stream",
          "text": [
            "P(Spam|message): 1.3481290211300841e-25\n",
            "P(Ham|message): 1.9368049028589875e-27\n",
            "Label: Spam\n"
          ],
          "name": "stdout"
        }
      ]
    },
    {
      "cell_type": "code",
      "metadata": {
        "colab": {
          "base_uri": "https://localhost:8080/"
        },
        "id": "viRrgtd0zT9u",
        "outputId": "f9a99ac6-a6b6-47df-86b8-f769213dcc8b"
      },
      "source": [
        "classify(\"Sounds good, Tom, then see u there\")"
      ],
      "execution_count": 22,
      "outputs": [
        {
          "output_type": "stream",
          "text": [
            "P(Spam|message): 2.4372375665888117e-25\n",
            "P(Ham|message): 3.687530435009238e-21\n",
            "Label: Ham\n"
          ],
          "name": "stdout"
        }
      ]
    },
    {
      "cell_type": "markdown",
      "metadata": {
        "id": "uSrXq34o1Enk"
      },
      "source": [
        "## Function accuracy"
      ]
    },
    {
      "cell_type": "markdown",
      "metadata": {
        "id": "e9scK57o1Z9k"
      },
      "source": [
        "We now we will determine how well the spam filter is on test set of 1,114 messages.\n",
        "the algorithm will output a classification label for every messages in test set, which will be able to compare with te actual label (given by human).\n",
        "first, we will change classify() function to return the labels instead of printing them."
      ]
    },
    {
      "cell_type": "code",
      "metadata": {
        "id": "4EHBzN272TGg"
      },
      "source": [
        "def classify_test_set(message):\n",
        "\n",
        "    message = re.sub('\\W', ' ', message)\n",
        "    message = message.lower()\n",
        "    message = message.split()\n",
        "\n",
        "    p_spam_given_message = p_spam\n",
        "    p_ham_given_message = p_ham\n",
        "\n",
        "    for word in message:\n",
        "        if word in parameters_spam:\n",
        "            p_spam_given_message *= parameters_spam[word]\n",
        "\n",
        "        if word in parameters_ham:\n",
        "            p_ham_given_message *= parameters_ham[word]\n",
        "\n",
        "    if p_ham_given_message > p_spam_given_message:\n",
        "        return 'ham'\n",
        "    elif p_spam_given_message > p_ham_given_message:\n",
        "        return 'spam'\n",
        "    else:\n",
        "        return 'needs human classification'"
      ],
      "execution_count": 23,
      "outputs": []
    },
    {
      "cell_type": "code",
      "metadata": {
        "colab": {
          "base_uri": "https://localhost:8080/",
          "height": 204
        },
        "id": "rpSZVYU12XTv",
        "outputId": "3398c18b-63c2-48ac-eb95-bb142b627ca4"
      },
      "source": [
        "#the function now returns labels, we can create a new column in our test set\n",
        "test_set['predicted'] = test_set['SMS'].apply(classify_test_set)\n",
        "test_set.head()"
      ],
      "execution_count": 24,
      "outputs": [
        {
          "output_type": "execute_result",
          "data": {
            "text/html": [
              "<div>\n",
              "<style scoped>\n",
              "    .dataframe tbody tr th:only-of-type {\n",
              "        vertical-align: middle;\n",
              "    }\n",
              "\n",
              "    .dataframe tbody tr th {\n",
              "        vertical-align: top;\n",
              "    }\n",
              "\n",
              "    .dataframe thead th {\n",
              "        text-align: right;\n",
              "    }\n",
              "</style>\n",
              "<table border=\"1\" class=\"dataframe\">\n",
              "  <thead>\n",
              "    <tr style=\"text-align: right;\">\n",
              "      <th></th>\n",
              "      <th>Label</th>\n",
              "      <th>SMS</th>\n",
              "      <th>predicted</th>\n",
              "    </tr>\n",
              "  </thead>\n",
              "  <tbody>\n",
              "    <tr>\n",
              "      <th>0</th>\n",
              "      <td>ham</td>\n",
              "      <td>Later i guess. I needa do mcat study too.</td>\n",
              "      <td>ham</td>\n",
              "    </tr>\n",
              "    <tr>\n",
              "      <th>1</th>\n",
              "      <td>ham</td>\n",
              "      <td>But i haf enuff space got like 4 mb...</td>\n",
              "      <td>ham</td>\n",
              "    </tr>\n",
              "    <tr>\n",
              "      <th>2</th>\n",
              "      <td>spam</td>\n",
              "      <td>Had your mobile 10 mths? Update to latest Oran...</td>\n",
              "      <td>spam</td>\n",
              "    </tr>\n",
              "    <tr>\n",
              "      <th>3</th>\n",
              "      <td>ham</td>\n",
              "      <td>All sounds good. Fingers . Makes it difficult ...</td>\n",
              "      <td>ham</td>\n",
              "    </tr>\n",
              "    <tr>\n",
              "      <th>4</th>\n",
              "      <td>ham</td>\n",
              "      <td>All done, all handed in. Don't know if mega sh...</td>\n",
              "      <td>ham</td>\n",
              "    </tr>\n",
              "  </tbody>\n",
              "</table>\n",
              "</div>"
            ],
            "text/plain": [
              "  Label                                                SMS predicted\n",
              "0   ham          Later i guess. I needa do mcat study too.       ham\n",
              "1   ham             But i haf enuff space got like 4 mb...       ham\n",
              "2  spam  Had your mobile 10 mths? Update to latest Oran...      spam\n",
              "3   ham  All sounds good. Fingers . Makes it difficult ...       ham\n",
              "4   ham  All done, all handed in. Don't know if mega sh...       ham"
            ]
          },
          "metadata": {
            "tags": []
          },
          "execution_count": 24
        }
      ]
    },
    {
      "cell_type": "markdown",
      "metadata": {
        "id": "xesgX6eL2qzR"
      },
      "source": [
        "we can compare the predicted values with the actual values to measure how good our spam filter is with classifying messages.\n",
        "\n",
        "Accuracy\n",
        "=\n",
        "number of correctly classified messages\n",
        "/\n",
        "total number of classified messages\n"
      ]
    },
    {
      "cell_type": "code",
      "metadata": {
        "colab": {
          "base_uri": "https://localhost:8080/"
        },
        "id": "6VDF49lC3scY",
        "outputId": "00d2d1f6-7e22-4fa4-af35-e64e8ef562d4"
      },
      "source": [
        "correct=0\n",
        "total=test_set.shape[0]\n",
        "\n",
        "for row in test_set.iterrows():\n",
        "    row = row[1]\n",
        "    if row['Label'] == row['predicted']:\n",
        "        correct += 1\n",
        "        \n",
        "print('Correct:', correct)\n",
        "print('Incorrect:', total - correct)\n",
        "print('Accuracy:', correct/total)\n"
      ],
      "execution_count": 25,
      "outputs": [
        {
          "output_type": "stream",
          "text": [
            "Correct: 1100\n",
            "Incorrect: 14\n",
            "Accuracy: 0.9874326750448833\n"
          ],
          "name": "stdout"
        }
      ]
    },
    {
      "cell_type": "markdown",
      "metadata": {
        "id": "_Uck36Va4NGn"
      },
      "source": [
        "The accuracy is close to 98.74% which is a high accuracy, it means spam filter looked at 1,114 messages that have been trained and classified 1,100 correctly"
      ]
    }
  ]
}